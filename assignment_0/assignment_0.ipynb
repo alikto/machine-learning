{
  "nbformat": 4,
  "nbformat_minor": 0,
  "metadata": {
    "colab": {
      "provenance": [],
      "gpuType": "T4"
    },
    "kernelspec": {
      "name": "python3",
      "display_name": "Python 3"
    },
    "language_info": {
      "name": "python"
    },
    "accelerator": "GPU"
  },
  "cells": [
    {
      "cell_type": "code",
      "execution_count": 67,
      "metadata": {
        "id": "aOj_4_yJYiKJ"
      },
      "outputs": [],
      "source": [
        "import numpy as np\n",
        "import pandas as pd\n",
        "import matplotlib.pyplot as plt\n",
        "import seaborn as sns\n",
        "from sklearn.model_selection import train_test_split\n",
        "from sklearn.model_selection import cross_val_score, StratifiedKFold\n",
        "from sklearn.naive_bayes import GaussianNB\n",
        "from sklearn.neighbors import KNeighborsClassifier\n",
        "from sklearn.metrics import accuracy_score, precision_score, recall_score, f1_score\n",
        "from sklearn.svm import SVC\n",
        "from sklearn.ensemble import RandomForestClassifier\n",
        "from sklearn.preprocessing import MinMaxScaler, StandardScaler\n",
        "from sklearn.preprocessing import LabelEncoder,OneHotEncoder"
      ]
    },
    {
      "cell_type": "code",
      "source": [
        "from google.colab import drive\n",
        "\n",
        "# Mount Google Drive\n",
        "drive.mount('/content/drive')"
      ],
      "metadata": {
        "colab": {
          "base_uri": "https://localhost:8080/"
        },
        "id": "izsjTipGZchr",
        "outputId": "695a484c-155e-44b3-ae14-d443152da2a3"
      },
      "execution_count": 2,
      "outputs": [
        {
          "output_type": "stream",
          "name": "stdout",
          "text": [
            "Mounted at /content/drive\n"
          ]
        }
      ]
    },
    {
      "cell_type": "code",
      "source": [
        "# Define the path to your CSV file in Google Drive\n",
        "csv_file_path = \"/content/drive/MyDrive/BBM409_datasets/star_classification.csv\"\n",
        "\n",
        "# Read the CSV file using pandas\n",
        "df = pd.read_csv(csv_file_path)"
      ],
      "metadata": {
        "id": "wtN8rOqZaDR1"
      },
      "execution_count": 77,
      "outputs": []
    },
    {
      "cell_type": "markdown",
      "source": [
        "# Pre-processing"
      ],
      "metadata": {
        "id": "ygnLLJBBbSv7"
      }
    },
    {
      "cell_type": "code",
      "source": [
        "df.columns"
      ],
      "metadata": {
        "colab": {
          "base_uri": "https://localhost:8080/"
        },
        "id": "4nDm2koKGoUX",
        "outputId": "bb7e7d66-13e6-4cca-fecf-eae630dee9a3"
      },
      "execution_count": 78,
      "outputs": [
        {
          "output_type": "execute_result",
          "data": {
            "text/plain": [
              "Index(['obj_ID', 'alpha', 'delta', 'u', 'g', 'r', 'i', 'z', 'run_ID',\n",
              "       'rerun_ID', 'cam_col', 'field_ID', 'spec_obj_ID', 'class', 'redshift',\n",
              "       'plate', 'MJD', 'fiber_ID'],\n",
              "      dtype='object')"
            ]
          },
          "metadata": {},
          "execution_count": 78
        }
      ]
    },
    {
      "cell_type": "code",
      "source": [
        "df.dtypes\n",
        "\n",
        "# Columns are mostly numeric, we will encode \"class\" column"
      ],
      "metadata": {
        "colab": {
          "base_uri": "https://localhost:8080/"
        },
        "id": "U0h2Axs9GrfQ",
        "outputId": "f25bc418-9634-4139-de1f-10910ccf9615"
      },
      "execution_count": 79,
      "outputs": [
        {
          "output_type": "execute_result",
          "data": {
            "text/plain": [
              "obj_ID         float64\n",
              "alpha          float64\n",
              "delta          float64\n",
              "u              float64\n",
              "g              float64\n",
              "r              float64\n",
              "i              float64\n",
              "z              float64\n",
              "run_ID           int64\n",
              "rerun_ID         int64\n",
              "cam_col          int64\n",
              "field_ID         int64\n",
              "spec_obj_ID    float64\n",
              "class           object\n",
              "redshift       float64\n",
              "plate            int64\n",
              "MJD              int64\n",
              "fiber_ID         int64\n",
              "dtype: object"
            ]
          },
          "metadata": {},
          "execution_count": 79
        }
      ]
    },
    {
      "cell_type": "code",
      "source": [
        "df.info()\n",
        "\n",
        "# There is no missing value as seen, so no need to fill null values."
      ],
      "metadata": {
        "colab": {
          "base_uri": "https://localhost:8080/"
        },
        "id": "7JgR-DrEHITH",
        "outputId": "ed1fb37f-511b-447e-e4ea-c9611f359a0e"
      },
      "execution_count": 80,
      "outputs": [
        {
          "output_type": "stream",
          "name": "stdout",
          "text": [
            "<class 'pandas.core.frame.DataFrame'>\n",
            "RangeIndex: 100000 entries, 0 to 99999\n",
            "Data columns (total 18 columns):\n",
            " #   Column       Non-Null Count   Dtype  \n",
            "---  ------       --------------   -----  \n",
            " 0   obj_ID       100000 non-null  float64\n",
            " 1   alpha        100000 non-null  float64\n",
            " 2   delta        100000 non-null  float64\n",
            " 3   u            100000 non-null  float64\n",
            " 4   g            100000 non-null  float64\n",
            " 5   r            100000 non-null  float64\n",
            " 6   i            100000 non-null  float64\n",
            " 7   z            100000 non-null  float64\n",
            " 8   run_ID       100000 non-null  int64  \n",
            " 9   rerun_ID     100000 non-null  int64  \n",
            " 10  cam_col      100000 non-null  int64  \n",
            " 11  field_ID     100000 non-null  int64  \n",
            " 12  spec_obj_ID  100000 non-null  float64\n",
            " 13  class        100000 non-null  object \n",
            " 14  redshift     100000 non-null  float64\n",
            " 15  plate        100000 non-null  int64  \n",
            " 16  MJD          100000 non-null  int64  \n",
            " 17  fiber_ID     100000 non-null  int64  \n",
            "dtypes: float64(10), int64(7), object(1)\n",
            "memory usage: 13.7+ MB\n"
          ]
        }
      ]
    },
    {
      "cell_type": "code",
      "source": [
        "df = df.drop(['obj_ID', 'run_ID', 'rerun_ID', 'field_ID', 'spec_obj_ID', 'fiber_ID'], axis=1)"
      ],
      "metadata": {
        "id": "8aKtNl_7I7Gz"
      },
      "execution_count": 81,
      "outputs": []
    },
    {
      "cell_type": "code",
      "source": [
        "df.columns"
      ],
      "metadata": {
        "colab": {
          "base_uri": "https://localhost:8080/"
        },
        "id": "0OvLC86YKPAJ",
        "outputId": "f25704d0-bbae-45d3-d611-e9484d4944a2"
      },
      "execution_count": 82,
      "outputs": [
        {
          "output_type": "execute_result",
          "data": {
            "text/plain": [
              "Index(['alpha', 'delta', 'u', 'g', 'r', 'i', 'z', 'cam_col', 'class',\n",
              "       'redshift', 'plate', 'MJD'],\n",
              "      dtype='object')"
            ]
          },
          "metadata": {},
          "execution_count": 82
        }
      ]
    },
    {
      "cell_type": "code",
      "source": [
        "# Encoding categorical data ('class')\n",
        "label_encoder = LabelEncoder()\n",
        "df['class'] = label_encoder.fit_transform(df['class'])"
      ],
      "metadata": {
        "id": "C8SFCcK-JP8g"
      },
      "execution_count": 83,
      "outputs": []
    },
    {
      "cell_type": "code",
      "source": [
        "df.head(10)"
      ],
      "metadata": {
        "colab": {
          "base_uri": "https://localhost:8080/",
          "height": 363
        },
        "id": "_SI7hxfNKUfr",
        "outputId": "002a6724-5573-45e2-f71b-7a170907415c"
      },
      "execution_count": 84,
      "outputs": [
        {
          "output_type": "execute_result",
          "data": {
            "text/plain": [
              "        alpha      delta         u         g         r         i         z  \\\n",
              "0  135.689107  32.494632  23.87882  22.27530  20.39501  19.16573  18.79371   \n",
              "1  144.826101  31.274185  24.77759  22.83188  22.58444  21.16812  21.61427   \n",
              "2  142.188790  35.582444  25.26307  22.66389  20.60976  19.34857  18.94827   \n",
              "3  338.741038  -0.402828  22.13682  23.77656  21.61162  20.50454  19.25010   \n",
              "4  345.282593  21.183866  19.43718  17.58028  16.49747  15.97711  15.54461   \n",
              "5  340.995121  20.589476  23.48827  23.33776  21.32195  20.25615  19.54544   \n",
              "6   23.234926  11.418188  21.46973  21.17624  20.92829  20.60826  20.42573   \n",
              "7    5.433176  12.065186  22.24979  22.02172  20.34126  19.48794  18.84999   \n",
              "8  200.290475  47.199402  24.40286  22.35669  20.61032  19.46490  18.95852   \n",
              "9   39.149691  28.102842  21.74669  20.03493  19.17553  18.81823  18.65422   \n",
              "\n",
              "   cam_col  class  redshift  plate    MJD  \n",
              "0        2      0  0.634794   5812  56354  \n",
              "1        5      0  0.779136  10445  58158  \n",
              "2        2      0  0.644195   4576  55592  \n",
              "3        3      0  0.932346   9149  58039  \n",
              "4        3      0  0.116123   6121  56187  \n",
              "5        3      1  1.424659   5026  55855  \n",
              "6        2      1  0.586455  11069  58456  \n",
              "7        2      0  0.477009   6183  56210  \n",
              "8        5      0  0.660012   6625  56386  \n",
              "9        4      2 -0.000008   2444  54082  "
            ],
            "text/html": [
              "\n",
              "  <div id=\"df-952fa77d-8c30-4dc1-8543-30d8cf443c20\" class=\"colab-df-container\">\n",
              "    <div>\n",
              "<style scoped>\n",
              "    .dataframe tbody tr th:only-of-type {\n",
              "        vertical-align: middle;\n",
              "    }\n",
              "\n",
              "    .dataframe tbody tr th {\n",
              "        vertical-align: top;\n",
              "    }\n",
              "\n",
              "    .dataframe thead th {\n",
              "        text-align: right;\n",
              "    }\n",
              "</style>\n",
              "<table border=\"1\" class=\"dataframe\">\n",
              "  <thead>\n",
              "    <tr style=\"text-align: right;\">\n",
              "      <th></th>\n",
              "      <th>alpha</th>\n",
              "      <th>delta</th>\n",
              "      <th>u</th>\n",
              "      <th>g</th>\n",
              "      <th>r</th>\n",
              "      <th>i</th>\n",
              "      <th>z</th>\n",
              "      <th>cam_col</th>\n",
              "      <th>class</th>\n",
              "      <th>redshift</th>\n",
              "      <th>plate</th>\n",
              "      <th>MJD</th>\n",
              "    </tr>\n",
              "  </thead>\n",
              "  <tbody>\n",
              "    <tr>\n",
              "      <th>0</th>\n",
              "      <td>135.689107</td>\n",
              "      <td>32.494632</td>\n",
              "      <td>23.87882</td>\n",
              "      <td>22.27530</td>\n",
              "      <td>20.39501</td>\n",
              "      <td>19.16573</td>\n",
              "      <td>18.79371</td>\n",
              "      <td>2</td>\n",
              "      <td>0</td>\n",
              "      <td>0.634794</td>\n",
              "      <td>5812</td>\n",
              "      <td>56354</td>\n",
              "    </tr>\n",
              "    <tr>\n",
              "      <th>1</th>\n",
              "      <td>144.826101</td>\n",
              "      <td>31.274185</td>\n",
              "      <td>24.77759</td>\n",
              "      <td>22.83188</td>\n",
              "      <td>22.58444</td>\n",
              "      <td>21.16812</td>\n",
              "      <td>21.61427</td>\n",
              "      <td>5</td>\n",
              "      <td>0</td>\n",
              "      <td>0.779136</td>\n",
              "      <td>10445</td>\n",
              "      <td>58158</td>\n",
              "    </tr>\n",
              "    <tr>\n",
              "      <th>2</th>\n",
              "      <td>142.188790</td>\n",
              "      <td>35.582444</td>\n",
              "      <td>25.26307</td>\n",
              "      <td>22.66389</td>\n",
              "      <td>20.60976</td>\n",
              "      <td>19.34857</td>\n",
              "      <td>18.94827</td>\n",
              "      <td>2</td>\n",
              "      <td>0</td>\n",
              "      <td>0.644195</td>\n",
              "      <td>4576</td>\n",
              "      <td>55592</td>\n",
              "    </tr>\n",
              "    <tr>\n",
              "      <th>3</th>\n",
              "      <td>338.741038</td>\n",
              "      <td>-0.402828</td>\n",
              "      <td>22.13682</td>\n",
              "      <td>23.77656</td>\n",
              "      <td>21.61162</td>\n",
              "      <td>20.50454</td>\n",
              "      <td>19.25010</td>\n",
              "      <td>3</td>\n",
              "      <td>0</td>\n",
              "      <td>0.932346</td>\n",
              "      <td>9149</td>\n",
              "      <td>58039</td>\n",
              "    </tr>\n",
              "    <tr>\n",
              "      <th>4</th>\n",
              "      <td>345.282593</td>\n",
              "      <td>21.183866</td>\n",
              "      <td>19.43718</td>\n",
              "      <td>17.58028</td>\n",
              "      <td>16.49747</td>\n",
              "      <td>15.97711</td>\n",
              "      <td>15.54461</td>\n",
              "      <td>3</td>\n",
              "      <td>0</td>\n",
              "      <td>0.116123</td>\n",
              "      <td>6121</td>\n",
              "      <td>56187</td>\n",
              "    </tr>\n",
              "    <tr>\n",
              "      <th>5</th>\n",
              "      <td>340.995121</td>\n",
              "      <td>20.589476</td>\n",
              "      <td>23.48827</td>\n",
              "      <td>23.33776</td>\n",
              "      <td>21.32195</td>\n",
              "      <td>20.25615</td>\n",
              "      <td>19.54544</td>\n",
              "      <td>3</td>\n",
              "      <td>1</td>\n",
              "      <td>1.424659</td>\n",
              "      <td>5026</td>\n",
              "      <td>55855</td>\n",
              "    </tr>\n",
              "    <tr>\n",
              "      <th>6</th>\n",
              "      <td>23.234926</td>\n",
              "      <td>11.418188</td>\n",
              "      <td>21.46973</td>\n",
              "      <td>21.17624</td>\n",
              "      <td>20.92829</td>\n",
              "      <td>20.60826</td>\n",
              "      <td>20.42573</td>\n",
              "      <td>2</td>\n",
              "      <td>1</td>\n",
              "      <td>0.586455</td>\n",
              "      <td>11069</td>\n",
              "      <td>58456</td>\n",
              "    </tr>\n",
              "    <tr>\n",
              "      <th>7</th>\n",
              "      <td>5.433176</td>\n",
              "      <td>12.065186</td>\n",
              "      <td>22.24979</td>\n",
              "      <td>22.02172</td>\n",
              "      <td>20.34126</td>\n",
              "      <td>19.48794</td>\n",
              "      <td>18.84999</td>\n",
              "      <td>2</td>\n",
              "      <td>0</td>\n",
              "      <td>0.477009</td>\n",
              "      <td>6183</td>\n",
              "      <td>56210</td>\n",
              "    </tr>\n",
              "    <tr>\n",
              "      <th>8</th>\n",
              "      <td>200.290475</td>\n",
              "      <td>47.199402</td>\n",
              "      <td>24.40286</td>\n",
              "      <td>22.35669</td>\n",
              "      <td>20.61032</td>\n",
              "      <td>19.46490</td>\n",
              "      <td>18.95852</td>\n",
              "      <td>5</td>\n",
              "      <td>0</td>\n",
              "      <td>0.660012</td>\n",
              "      <td>6625</td>\n",
              "      <td>56386</td>\n",
              "    </tr>\n",
              "    <tr>\n",
              "      <th>9</th>\n",
              "      <td>39.149691</td>\n",
              "      <td>28.102842</td>\n",
              "      <td>21.74669</td>\n",
              "      <td>20.03493</td>\n",
              "      <td>19.17553</td>\n",
              "      <td>18.81823</td>\n",
              "      <td>18.65422</td>\n",
              "      <td>4</td>\n",
              "      <td>2</td>\n",
              "      <td>-0.000008</td>\n",
              "      <td>2444</td>\n",
              "      <td>54082</td>\n",
              "    </tr>\n",
              "  </tbody>\n",
              "</table>\n",
              "</div>\n",
              "    <div class=\"colab-df-buttons\">\n",
              "\n",
              "  <div class=\"colab-df-container\">\n",
              "    <button class=\"colab-df-convert\" onclick=\"convertToInteractive('df-952fa77d-8c30-4dc1-8543-30d8cf443c20')\"\n",
              "            title=\"Convert this dataframe to an interactive table.\"\n",
              "            style=\"display:none;\">\n",
              "\n",
              "  <svg xmlns=\"http://www.w3.org/2000/svg\" height=\"24px\" viewBox=\"0 -960 960 960\">\n",
              "    <path d=\"M120-120v-720h720v720H120Zm60-500h600v-160H180v160Zm220 220h160v-160H400v160Zm0 220h160v-160H400v160ZM180-400h160v-160H180v160Zm440 0h160v-160H620v160ZM180-180h160v-160H180v160Zm440 0h160v-160H620v160Z\"/>\n",
              "  </svg>\n",
              "    </button>\n",
              "\n",
              "  <style>\n",
              "    .colab-df-container {\n",
              "      display:flex;\n",
              "      gap: 12px;\n",
              "    }\n",
              "\n",
              "    .colab-df-convert {\n",
              "      background-color: #E8F0FE;\n",
              "      border: none;\n",
              "      border-radius: 50%;\n",
              "      cursor: pointer;\n",
              "      display: none;\n",
              "      fill: #1967D2;\n",
              "      height: 32px;\n",
              "      padding: 0 0 0 0;\n",
              "      width: 32px;\n",
              "    }\n",
              "\n",
              "    .colab-df-convert:hover {\n",
              "      background-color: #E2EBFA;\n",
              "      box-shadow: 0px 1px 2px rgba(60, 64, 67, 0.3), 0px 1px 3px 1px rgba(60, 64, 67, 0.15);\n",
              "      fill: #174EA6;\n",
              "    }\n",
              "\n",
              "    .colab-df-buttons div {\n",
              "      margin-bottom: 4px;\n",
              "    }\n",
              "\n",
              "    [theme=dark] .colab-df-convert {\n",
              "      background-color: #3B4455;\n",
              "      fill: #D2E3FC;\n",
              "    }\n",
              "\n",
              "    [theme=dark] .colab-df-convert:hover {\n",
              "      background-color: #434B5C;\n",
              "      box-shadow: 0px 1px 3px 1px rgba(0, 0, 0, 0.15);\n",
              "      filter: drop-shadow(0px 1px 2px rgba(0, 0, 0, 0.3));\n",
              "      fill: #FFFFFF;\n",
              "    }\n",
              "  </style>\n",
              "\n",
              "    <script>\n",
              "      const buttonEl =\n",
              "        document.querySelector('#df-952fa77d-8c30-4dc1-8543-30d8cf443c20 button.colab-df-convert');\n",
              "      buttonEl.style.display =\n",
              "        google.colab.kernel.accessAllowed ? 'block' : 'none';\n",
              "\n",
              "      async function convertToInteractive(key) {\n",
              "        const element = document.querySelector('#df-952fa77d-8c30-4dc1-8543-30d8cf443c20');\n",
              "        const dataTable =\n",
              "          await google.colab.kernel.invokeFunction('convertToInteractive',\n",
              "                                                    [key], {});\n",
              "        if (!dataTable) return;\n",
              "\n",
              "        const docLinkHtml = 'Like what you see? Visit the ' +\n",
              "          '<a target=\"_blank\" href=https://colab.research.google.com/notebooks/data_table.ipynb>data table notebook</a>'\n",
              "          + ' to learn more about interactive tables.';\n",
              "        element.innerHTML = '';\n",
              "        dataTable['output_type'] = 'display_data';\n",
              "        await google.colab.output.renderOutput(dataTable, element);\n",
              "        const docLink = document.createElement('div');\n",
              "        docLink.innerHTML = docLinkHtml;\n",
              "        element.appendChild(docLink);\n",
              "      }\n",
              "    </script>\n",
              "  </div>\n",
              "\n",
              "\n",
              "<div id=\"df-49be5cc9-3874-48c6-b09d-90dab5d9e343\">\n",
              "  <button class=\"colab-df-quickchart\" onclick=\"quickchart('df-49be5cc9-3874-48c6-b09d-90dab5d9e343')\"\n",
              "            title=\"Suggest charts.\"\n",
              "            style=\"display:none;\">\n",
              "\n",
              "<svg xmlns=\"http://www.w3.org/2000/svg\" height=\"24px\"viewBox=\"0 0 24 24\"\n",
              "     width=\"24px\">\n",
              "    <g>\n",
              "        <path d=\"M19 3H5c-1.1 0-2 .9-2 2v14c0 1.1.9 2 2 2h14c1.1 0 2-.9 2-2V5c0-1.1-.9-2-2-2zM9 17H7v-7h2v7zm4 0h-2V7h2v10zm4 0h-2v-4h2v4z\"/>\n",
              "    </g>\n",
              "</svg>\n",
              "  </button>\n",
              "\n",
              "<style>\n",
              "  .colab-df-quickchart {\n",
              "      --bg-color: #E8F0FE;\n",
              "      --fill-color: #1967D2;\n",
              "      --hover-bg-color: #E2EBFA;\n",
              "      --hover-fill-color: #174EA6;\n",
              "      --disabled-fill-color: #AAA;\n",
              "      --disabled-bg-color: #DDD;\n",
              "  }\n",
              "\n",
              "  [theme=dark] .colab-df-quickchart {\n",
              "      --bg-color: #3B4455;\n",
              "      --fill-color: #D2E3FC;\n",
              "      --hover-bg-color: #434B5C;\n",
              "      --hover-fill-color: #FFFFFF;\n",
              "      --disabled-bg-color: #3B4455;\n",
              "      --disabled-fill-color: #666;\n",
              "  }\n",
              "\n",
              "  .colab-df-quickchart {\n",
              "    background-color: var(--bg-color);\n",
              "    border: none;\n",
              "    border-radius: 50%;\n",
              "    cursor: pointer;\n",
              "    display: none;\n",
              "    fill: var(--fill-color);\n",
              "    height: 32px;\n",
              "    padding: 0;\n",
              "    width: 32px;\n",
              "  }\n",
              "\n",
              "  .colab-df-quickchart:hover {\n",
              "    background-color: var(--hover-bg-color);\n",
              "    box-shadow: 0 1px 2px rgba(60, 64, 67, 0.3), 0 1px 3px 1px rgba(60, 64, 67, 0.15);\n",
              "    fill: var(--button-hover-fill-color);\n",
              "  }\n",
              "\n",
              "  .colab-df-quickchart-complete:disabled,\n",
              "  .colab-df-quickchart-complete:disabled:hover {\n",
              "    background-color: var(--disabled-bg-color);\n",
              "    fill: var(--disabled-fill-color);\n",
              "    box-shadow: none;\n",
              "  }\n",
              "\n",
              "  .colab-df-spinner {\n",
              "    border: 2px solid var(--fill-color);\n",
              "    border-color: transparent;\n",
              "    border-bottom-color: var(--fill-color);\n",
              "    animation:\n",
              "      spin 1s steps(1) infinite;\n",
              "  }\n",
              "\n",
              "  @keyframes spin {\n",
              "    0% {\n",
              "      border-color: transparent;\n",
              "      border-bottom-color: var(--fill-color);\n",
              "      border-left-color: var(--fill-color);\n",
              "    }\n",
              "    20% {\n",
              "      border-color: transparent;\n",
              "      border-left-color: var(--fill-color);\n",
              "      border-top-color: var(--fill-color);\n",
              "    }\n",
              "    30% {\n",
              "      border-color: transparent;\n",
              "      border-left-color: var(--fill-color);\n",
              "      border-top-color: var(--fill-color);\n",
              "      border-right-color: var(--fill-color);\n",
              "    }\n",
              "    40% {\n",
              "      border-color: transparent;\n",
              "      border-right-color: var(--fill-color);\n",
              "      border-top-color: var(--fill-color);\n",
              "    }\n",
              "    60% {\n",
              "      border-color: transparent;\n",
              "      border-right-color: var(--fill-color);\n",
              "    }\n",
              "    80% {\n",
              "      border-color: transparent;\n",
              "      border-right-color: var(--fill-color);\n",
              "      border-bottom-color: var(--fill-color);\n",
              "    }\n",
              "    90% {\n",
              "      border-color: transparent;\n",
              "      border-bottom-color: var(--fill-color);\n",
              "    }\n",
              "  }\n",
              "</style>\n",
              "\n",
              "  <script>\n",
              "    async function quickchart(key) {\n",
              "      const quickchartButtonEl =\n",
              "        document.querySelector('#' + key + ' button');\n",
              "      quickchartButtonEl.disabled = true;  // To prevent multiple clicks.\n",
              "      quickchartButtonEl.classList.add('colab-df-spinner');\n",
              "      try {\n",
              "        const charts = await google.colab.kernel.invokeFunction(\n",
              "            'suggestCharts', [key], {});\n",
              "      } catch (error) {\n",
              "        console.error('Error during call to suggestCharts:', error);\n",
              "      }\n",
              "      quickchartButtonEl.classList.remove('colab-df-spinner');\n",
              "      quickchartButtonEl.classList.add('colab-df-quickchart-complete');\n",
              "    }\n",
              "    (() => {\n",
              "      let quickchartButtonEl =\n",
              "        document.querySelector('#df-49be5cc9-3874-48c6-b09d-90dab5d9e343 button');\n",
              "      quickchartButtonEl.style.display =\n",
              "        google.colab.kernel.accessAllowed ? 'block' : 'none';\n",
              "    })();\n",
              "  </script>\n",
              "</div>\n",
              "    </div>\n",
              "  </div>\n"
            ]
          },
          "metadata": {},
          "execution_count": 84
        }
      ]
    },
    {
      "cell_type": "code",
      "source": [
        "# applying scaling, values will be scaled between 0-1\n",
        "min_max_scaler = MinMaxScaler()\n",
        "\n",
        "cols_to_scale = ['alpha', 'delta', 'u', 'g', 'r', 'i', 'z', 'cam_col', 'redshift', 'plate', 'MJD']\n",
        "\n",
        "df[cols_to_scale] = min_max_scaler.fit_transform(df[cols_to_scale])"
      ],
      "metadata": {
        "id": "OEol8wjeLgJC"
      },
      "execution_count": 86,
      "outputs": []
    },
    {
      "cell_type": "code",
      "source": [
        "correlation_matrix = df.corr()"
      ],
      "metadata": {
        "id": "CRbgEd7-Jr3T"
      },
      "execution_count": 87,
      "outputs": []
    },
    {
      "cell_type": "code",
      "source": [
        "plt.figure(figsize=(10, 8))\n",
        "\n",
        "# Create the heatmap for correlation matrix\n",
        "sns.heatmap(correlation_matrix, annot=True, cmap=\"coolwarm\", fmt=\".2f\")\n",
        "\n",
        "plt.title(\"Correlation Matrix Heatmap\")\n",
        "plt.xticks(rotation=45)\n",
        "plt.show()"
      ],
      "metadata": {
        "colab": {
          "base_uri": "https://localhost:8080/",
          "height": 735
        },
        "id": "x1jKnPlAKkU_",
        "outputId": "cdd3a1a0-510a-4868-8e9f-d5e7f7f0cf3b"
      },
      "execution_count": 88,
      "outputs": [
        {
          "output_type": "display_data",
          "data": {
            "text/plain": [
              "<Figure size 1000x800 with 2 Axes>"
            ],
            "image/png": "[encoded data removed]"
          },
          "metadata": {}
        }
      ]
    },
    {
      "cell_type": "markdown",
      "source": [
        "# Split the Dataset"
      ],
      "metadata": {
        "id": "fK-6h1pbbWIa"
      }
    },
    {
      "cell_type": "markdown",
      "source": [
        "### Option.1 : Train-Test Split"
      ],
      "metadata": {
        "id": "4i0tdcZ8cmSx"
      }
    },
    {
      "cell_type": "code",
      "source": [
        "X = df.drop(columns=[\"class\"])  # exclude the target variable 'class'\n",
        "y = df[\"class\"] # target variable 'class'\n",
        "\n",
        "# split the data into training (80%) and testing (20%) sets\n",
        "X_train, X_test, y_train, y_test = train_test_split(X, y, test_size=0.2, random_state=42)"
      ],
      "metadata": {
        "id": "ymFFiKKXaR39"
      },
      "execution_count": 90,
      "outputs": []
    },
    {
      "cell_type": "markdown",
      "source": [
        "### Option.2 : k-Fold Cross Validation (5-folds)"
      ],
      "metadata": {
        "id": "s0-U9MK1crys"
      }
    },
    {
      "cell_type": "code",
      "source": [
        "# Create a 5-fold cross-validation splitter\n",
        "kf = StratifiedKFold(n_splits=5, shuffle=True, random_state=42)\n",
        "\n",
        "# models will be evaluated with code below\n",
        "# scores = cross_val_score(model, X, y, cv=kf)"
      ],
      "metadata": {
        "id": "sYAw8YBpcX1g"
      },
      "execution_count": 91,
      "outputs": []
    },
    {
      "cell_type": "code",
      "source": [
        "def calculate_metrics(y_test, y_pred):\n",
        "  accuracy = accuracy_score(y_test, y_pred)\n",
        "  precision = precision_score(y_test, y_pred, average='weighted')\n",
        "  recall = recall_score(y_test, y_pred, average='weighted')\n",
        "  f1 = f1_score(y_test, y_pred, average='weighted')\n",
        "\n",
        "  return accuracy, precision, recall, f1"
      ],
      "metadata": {
        "id": "T1bRIwHof51Y"
      },
      "execution_count": 92,
      "outputs": []
    },
    {
      "cell_type": "code",
      "source": [
        "def calculate_mean_metrics(accuracies, precisions, recalls, f1s):\n",
        "  mean_accuracy = sum(accuracies) / len(accuracies)\n",
        "  mean_precision = sum(precisions) / len(precisions)\n",
        "  mean_recall = sum(recalls) / len(recalls)\n",
        "  mean_f1 = sum(f1s) / len(f1s)\n",
        "\n",
        "  return mean_accuracy, mean_precision, mean_recall, mean_f1"
      ],
      "metadata": {
        "id": "52wPHy4-jqAx"
      },
      "execution_count": 93,
      "outputs": []
    },
    {
      "cell_type": "markdown",
      "source": [
        "# Classification Methods"
      ],
      "metadata": {
        "id": "_EaC3_sUejEC"
      }
    },
    {
      "cell_type": "markdown",
      "source": [
        "## 1. with Train-Test Split"
      ],
      "metadata": {
        "id": "o8WwxehXemAx"
      }
    },
    {
      "cell_type": "code",
      "source": [
        "# kNN\n",
        "#create the knn model\n",
        "knn = KNeighborsClassifier(n_neighbors=5)\n",
        "knn.fit(X_train, y_train)\n",
        "\n",
        "# predict on the test set\n",
        "y_pred_knn = knn.predict(X_test)\n",
        "\n",
        "accuracy_knn, precision_knn, recall_knn, f1_knn = calculate_metrics(y_test, y_pred_knn)"
      ],
      "metadata": {
        "id": "lv8alWzXGD3r"
      },
      "execution_count": 94,
      "outputs": []
    },
    {
      "cell_type": "code",
      "source": [
        "# Naive Bayes\n",
        "# create the naive bayes model\n",
        "nb = GaussianNB()\n",
        "nb.fit(X_train, y_train)\n",
        "\n",
        "# predict on the test set\n",
        "y_pred_nb = nb.predict(X_test)\n",
        "\n",
        "accuracy_nb, precision_nb, recall_nb, f1_nb = calculate_metrics(y_test, y_pred_nb)"
      ],
      "metadata": {
        "id": "vjyo2cZ6GHuw"
      },
      "execution_count": 95,
      "outputs": []
    },
    {
      "cell_type": "code",
      "source": [
        "# Random Forest\n",
        "# Create the Random Forest model\n",
        "rf = RandomForestClassifier(n_estimators=100, random_state=42)\n",
        "rf.fit(X_train, y_train)\n",
        "\n",
        "# Predict on the test set\n",
        "y_pred_rf = rf.predict(X_test)\n",
        "\n",
        "# Calculate Random Forest metrics\n",
        "accuracy_rf, precision_rf, recall_rf, f1_rf = calculate_metrics(y_test, y_pred_rf)"
      ],
      "metadata": {
        "id": "TILdiMLXGIWX"
      },
      "execution_count": 96,
      "outputs": []
    },
    {
      "cell_type": "code",
      "source": [
        "# Support Vector Machines (SVM)\n",
        "# Create the SVM model\n",
        "svm = SVC(kernel='linear', C=1.0, random_state=42)\n",
        "svm.fit(X_train, y_train)\n",
        "\n",
        "# Predict on the test set\n",
        "y_pred_svm = svm.predict(X_test)\n",
        "\n",
        "# Calculate SVM metrics\n",
        "accuracy_svm, precision_svm, recall_svm, f1_svm = calculate_metrics(y_test, y_pred_svm)"
      ],
      "metadata": {
        "id": "iO4iTjUQGKQM"
      },
      "execution_count": 97,
      "outputs": []
    },
    {
      "cell_type": "code",
      "source": [
        "print(\"Classification Results with Train-Test Split\")\n",
        "print(f\"\\t \\t kNN \\t \\t Naive Bayes \\t Random Forest \\t SVM\")\n",
        "print(f\"Accuracy: \\t {accuracy_knn:.4f} \\t {accuracy_nb:.4f} \\t {accuracy_rf:.4f} \\t {accuracy_svm:.4f}\")\n",
        "print(f\"Precision: \\t {precision_knn:.4f} \\t {precision_nb:.4f} \\t {precision_rf:.4f} \\t {precision_svm:.4f}\")\n",
        "print(f\"Recall: \\t {recall_knn:.4f} \\t {recall_nb:.4f} \\t {recall_rf:.4f} \\t {recall_svm:.4f}\")\n",
        "print(f\"F1-Score: \\t {f1_knn:.4f} \\t {f1_nb:.4f} \\t {f1_rf:.4f} \\t {f1_svm:.4f}\")\n"
      ],
      "metadata": {
        "id": "6g9Zt1KNiEha",
        "colab": {
          "base_uri": "https://localhost:8080/"
        },
        "outputId": "06627434-78c2-4e4b-8ce0-04b6efa55969"
      },
      "execution_count": 100,
      "outputs": [
        {
          "output_type": "stream",
          "name": "stdout",
          "text": [
            "Classification Results with Train-Test Split\n",
            "\t \t kNN \t \t Naive Bayes \t Random Forest \t SVM\n",
            "Accuracy: \t 0.9092 \t 0.7201 \t 0.9772 \t 0.9417\n",
            "Precision: \t 0.9110 \t 0.7745 \t 0.9771 \t 0.9423\n",
            "Recall: \t 0.9092 \t 0.7201 \t 0.9772 \t 0.9417\n",
            "F1-Score: \t 0.9083 \t 0.6734 \t 0.9771 \t 0.9413\n"
          ]
        }
      ]
    },
    {
      "cell_type": "markdown",
      "source": [
        "## 2. 5-fold Cross-validation"
      ],
      "metadata": {
        "id": "frqffX6KitbW"
      }
    },
    {
      "cell_type": "code",
      "source": [
        "# Create and train kNN model\n",
        "knn = KNeighborsClassifier(n_neighbors=5)\n",
        "\n",
        "# lists for knn\n",
        "accuracies_knn = []\n",
        "precisions_knn = []\n",
        "recalls_knn = []\n",
        "f1_scores_knn = []\n",
        "\n",
        "# perform cross validation\n",
        "for train_index, test_index in kf.split(X, y):\n",
        "    X_train, X_test = X.iloc[train_index], X.iloc[test_index]\n",
        "    y_train, y_test = y.iloc[train_index], y.iloc[test_index]\n",
        "\n",
        "    knn.fit(X_train, y_train)\n",
        "    y_pred_knn = knn.predict(X_test)\n",
        "\n",
        "    accuracy_fold, precision_fold, recall_fold, f1_fold = calculate_metrics(y_test, y_pred_knn)\n",
        "\n",
        "    accuracies_knn.append(accuracy_fold)\n",
        "    precisions_knn.append(precision_fold)\n",
        "    recalls_knn.append(recall_fold)\n",
        "    f1_scores_knn.append(f1_fold)\n",
        "\n",
        "mean_acc_knn, mean_prec_knn, mean_rec_knn, mean_f1_knn = calculate_mean_metrics(accuracies_knn, precisions_knn, recalls_knn, f1_scores_knn)\n"
      ],
      "metadata": {
        "id": "BpKU_Um-iK08"
      },
      "execution_count": 101,
      "outputs": []
    },
    {
      "cell_type": "code",
      "source": [
        "# Create and train Naive Bayes model\n",
        "nb = GaussianNB()\n",
        "\n",
        "# lists for nb\n",
        "accuracies_nb = []\n",
        "precisions_nb = []\n",
        "recalls_nb = []\n",
        "f1_scores_nb = []\n",
        "\n",
        "# perform cross validation\n",
        "for train_index, test_index in kf.split(X, y):\n",
        "    X_train, X_test = X.iloc[train_index], X.iloc[test_index]\n",
        "    y_train, y_test = y.iloc[train_index], y.iloc[test_index]\n",
        "\n",
        "    knn.fit(X_train, y_train)\n",
        "    y_pred_knn = knn.predict(X_test)\n",
        "\n",
        "    accuracy_fold, precision_fold, recall_fold, f1_fold = calculate_metrics(y_test, y_pred_knn)\n",
        "\n",
        "    accuracies_nb.append(accuracy_fold)\n",
        "    precisions_nb.append(precision_fold)\n",
        "    recalls_nb.append(recall_fold)\n",
        "    f1_scores_nb.append(f1_fold)\n",
        "\n",
        "mean_acc_nb, mean_prec_nb, mean_rec_nb, mean_f1_nb = calculate_mean_metrics(accuracies_nb, precisions_nb, recalls_nb, f1_scores_nb)\n"
      ],
      "metadata": {
        "id": "-18T87vDkk1D"
      },
      "execution_count": 102,
      "outputs": []
    },
    {
      "cell_type": "code",
      "source": [
        "# Create the Random Forest model\n",
        "\n",
        "rf = RandomForestClassifier(n_estimators=100, random_state=42)\n",
        "\n",
        "accuracies_rf = []\n",
        "precisions_rf = []\n",
        "recalls_rf = []\n",
        "f1_scores_rf = []\n",
        "\n",
        "for train_index, test_index in kf.split(X, y):\n",
        "    X_train, X_test = X.iloc[train_index], X.iloc[test_index]\n",
        "    y_train, y_test = y.iloc[train_index], y.iloc[test_index]\n",
        "\n",
        "    rf.fit(X_train, y_train)\n",
        "    y_pred_rf = rf.predict(X_test)\n",
        "\n",
        "    accuracy_fold, precision_fold, recall_fold, f1_fold = calculate_metrics(y_test, y_pred_rf)\n",
        "\n",
        "    accuracies_rf.append(accuracy_fold)\n",
        "    precisions_rf.append(precision_fold)\n",
        "    recalls_rf.append(recall_fold)\n",
        "    f1_scores_rf.append(f1_fold)\n",
        "\n",
        "mean_acc_rf, mean_prec_rf, mean_rec_rf, mean_f1_rf = calculate_mean_metrics(accuracies_rf, precisions_rf, recalls_rf, f1_scores_rf)\n"
      ],
      "metadata": {
        "id": "tIZPZuUhEdd7"
      },
      "execution_count": 103,
      "outputs": []
    },
    {
      "cell_type": "code",
      "source": [
        "# Support Vector Machines (SVM) within 5-fold cross-validation\n",
        "\n",
        "accuracies_svm = []\n",
        "precisions_svm = []\n",
        "recalls_svm = []\n",
        "f1_scores_svm = []\n",
        "\n",
        "for train_index, test_index in kf.split(X, y):\n",
        "    X_train, X_test = X.iloc[train_index], X.iloc[test_index]\n",
        "    y_train, y_test = y.iloc[train_index], y.iloc[test_index]\n",
        "\n",
        "    svm = SVC(kernel='linear', C=1.0, random_state=42)\n",
        "    svm.fit(X_train, y_train)\n",
        "    y_pred_svm = svm.predict(X_test)\n",
        "\n",
        "    accuracy_fold, precision_fold, recall_fold, f1_fold = calculate_metrics(y_test, y_pred_svm)\n",
        "\n",
        "    accuracies_svm.append(accuracy_fold)\n",
        "    precisions_svm.append(precision_fold)\n",
        "    recalls_svm.append(recall_fold)\n",
        "    f1_scores_svm.append(f1_fold)\n",
        "\n",
        "mean_acc_svm, mean_prec_svm, mean_rec_svm, mean_f1_svm = calculate_mean_metrics(accuracies_svm, precisions_svm, recalls_svm, f1_scores_svm)\n"
      ],
      "metadata": {
        "id": "N77eudPpEneQ"
      },
      "execution_count": 104,
      "outputs": []
    },
    {
      "cell_type": "code",
      "source": [
        "print(\"Classification Results with 5-fold Cross-Validation\")\n",
        "print(f\"\\t \\t kNN \\t \\t Naive Bayes \\t Random Forest \\t SVM\")\n",
        "print(f\"Accuracy: \\t {mean_acc_knn:.4f} \\t {mean_acc_nb:.4f} \\t {mean_acc_rf:.4f} \\t {mean_acc_svm:.4f}\")\n",
        "print(f\"Precision: \\t {mean_prec_knn:.4f} \\t {mean_prec_nb:.4f} \\t {mean_prec_rf:.4f} \\t {mean_prec_svm:.4f}\")\n",
        "print(f\"Recall: \\t {mean_rec_knn:.4f} \\t {mean_rec_nb:.4f} \\t {mean_rec_rf:.4f} \\t {mean_rec_svm:.4f}\")\n",
        "print(f\"F1-Score: \\t {mean_f1_knn:.4f} \\t {mean_f1_nb:.4f} \\t {mean_f1_rf:.4f} \\t {mean_f1_svm:.4f}\")\n"
      ],
      "metadata": {
        "colab": {
          "base_uri": "https://localhost:8080/"
        },
        "id": "2LVNOQuEk9fg",
        "outputId": "a6d76165-f147-43fe-dc6c-ca489f08b1e6"
      },
      "execution_count": 106,
      "outputs": [
        {
          "output_type": "stream",
          "name": "stdout",
          "text": [
            "Classification Results with 5-fold Cross-Validation\n",
            "\t \t kNN \t \t Naive Bayes \t Random Forest \t SVM\n",
            "Accuracy: \t 0.9115 \t 0.9115 \t 0.9777 \t 0.9405\n",
            "Precision: \t 0.9132 \t 0.9132 \t 0.9776 \t 0.9412\n",
            "Recall: \t 0.9115 \t 0.9115 \t 0.9777 \t 0.9405\n",
            "F1-Score: \t 0.9106 \t 0.9106 \t 0.9775 \t 0.9401\n"
          ]
        }
      ]
    },
    {
      "cell_type": "markdown",
      "source": [
        "# Explanations and Plots"
      ],
      "metadata": {
        "id": "tHrhqOnmmPYi"
      }
    },
    {
      "cell_type": "code",
      "source": [
        "# Scrores of train-test split\n",
        "models = ['kNN', 'Naive Bayes', 'Random Forest', 'SVM']\n",
        "accuracy = [accuracy_knn, accuracy_nb, accuracy_rf, accuracy_svm]\n",
        "precision = [precision_knn, precision_nb, precision_rf, precision_svm]\n",
        "recall = [recall_knn, recall_nb, recall_rf, recall_svm]\n",
        "f1_score = [f1_knn, f1_nb, f1_rf, f1_svm]\n",
        "\n",
        "\n",
        "bar_width = 0.2\n",
        "x = range(len(models))\n",
        "plt.figure(figsize=(8, 4))\n",
        "\n",
        "plt.bar(x, accuracy, width=bar_width, label='Accuracy', align='center', alpha=0.7)\n",
        "plt.bar([i + bar_width for i in x], precision, width=bar_width, label='Precision', align='center', alpha=0.7)\n",
        "plt.bar([i + 2*bar_width for i in x], recall, width=bar_width, label='Recall', align='center', alpha=0.7)\n",
        "plt.bar([i + 3*bar_width for i in x], f1_score, width=bar_width, label='F1-Score', align='center', alpha=0.7)\n",
        "\n",
        "plt.xlabel('Models')\n",
        "plt.ylabel('Scores')\n",
        "plt.title('Classification Results with 5-fold Cross-Validation')\n",
        "plt.xticks([i + 1.5 * bar_width for i in x], models)\n",
        "plt.legend()\n",
        "plt.show()\n"
      ],
      "metadata": {
        "colab": {
          "base_uri": "https://localhost:8080/",
          "height": 410
        },
        "id": "a0U2a5OiUimq",
        "outputId": "9a491200-210a-44c4-fcf9-a86b9ef6f8a3"
      },
      "execution_count": 112,
      "outputs": [
        {
          "output_type": "display_data",
          "data": {
            "text/plain": [
              "<Figure size 800x400 with 1 Axes>"
            ],
            "image/png": "[encoded data removed]"
          },
          "metadata": {}
        }
      ]
    },
    {
      "cell_type": "code",
      "source": [
        "# Scrores of 5-fold cross validation\n",
        "models = ['kNN', 'Naive Bayes', 'Random Forest', 'SVM']\n",
        "accuracy = [mean_acc_knn,mean_acc_nb,mean_acc_rf,mean_acc_svm]\n",
        "precision = [mean_prec_knn,mean_prec_nb,mean_prec_rf,mean_prec_svm]\n",
        "recall = [mean_rec_knn, mean_rec_nb, mean_rec_rf, mean_rec_svm]\n",
        "f1_score = [mean_f1_knn, mean_f1_nb, mean_f1_rf, mean_f1_svm]\n",
        "\n",
        "bar_width = 0.2\n",
        "x = range(len(models))\n",
        "plt.figure(figsize=(8, 4))\n",
        "\n",
        "plt.bar(x, accuracy, width=bar_width, label='Accuracy', align='center', alpha=0.7)\n",
        "plt.bar([i + bar_width for i in x], precision, width=bar_width, label='Precision', align='center', alpha=0.7)\n",
        "plt.bar([i + 2*bar_width for i in x], recall, width=bar_width, label='Recall', align='center', alpha=0.7)\n",
        "plt.bar([i + 3*bar_width for i in x], f1_score, width=bar_width, label='F1-Score', align='center', alpha=0.7)\n",
        "\n",
        "plt.xlabel('Models')\n",
        "plt.ylabel('Scores')\n",
        "plt.title('Classification Results with 5-fold Cross-Validation')\n",
        "plt.xticks([i + 1.5 * bar_width for i in x], models)\n",
        "plt.legend()\n",
        "plt.show()\n"
      ],
      "metadata": {
        "colab": {
          "base_uri": "https://localhost:8080/",
          "height": 410
        },
        "id": "93G1E8o5RVkr",
        "outputId": "d9c72c0e-2465-4175-8e4b-2e6be16284c6"
      },
      "execution_count": 111,
      "outputs": [
        {
          "output_type": "display_data",
          "data": {
            "text/plain": [
              "<Figure size 800x400 with 1 Axes>"
            ],
            "image/png": "[encoded data removed]"
          },
          "metadata": {}
        }
      ]
    },
    {
      "cell_type": "markdown",
      "source": [
        "In the 5-fold Cross-Validation results, we can see that Random Forest achieved the highest Accuracy, Precision, Recall, and F1-Score. On the other hand, Naive Bayes and kNN performed consistently but slightly lower in terms of metrics. SVM also performed well, but not as high as Random Forest.\n",
        "\n",
        "In the Train-Test Split results, Random Forest still performs exceptionally well with high Accuracy, Precision, Recall, and F1-Score. SVM also remains competitive. However, the performance of kNN and Naive Bayes dropped noticeably, especially in terms of Accuracy and Precision."
      ],
      "metadata": {
        "id": "LGojM2YQWO2-"
      }
    },
    {
      "cell_type": "markdown",
      "source": [
        "### 5-fold Cross-Validation:\n",
        "\n",
        "Because Random Forest is so good at handling complicated data relationships and combining decision trees, it performs the best across all metrics in the 5-fold Cross-Validation. Both Naive Bayes and kNN, which depend on probabilistic concepts and kNN is an intuitive algorithm, routinely outperform each other but do so slightly less well. SVM locates the optimal hyperplane for class separation while providing a good balance of metrics."
      ],
      "metadata": {
        "id": "MQKygkLVWgAG"
      }
    },
    {
      "cell_type": "markdown",
      "source": [
        "### Train - Test Split\n",
        "\n",
        "Random Forest's strength is seen in the Train-Test Split scenario, where it continually performs well, indicating that it is capable of handling changes in data distribution. On the other hand, Naive Bayes and kNN seem to be more vulnerable to splits in the data, which leads to inconsistent performance across the measures. SVM is a dependable option for the dataset in both situations since it consistently and competitively finds a hyperplane that maximizes class separation."
      ],
      "metadata": {
        "id": "rur6RsRHX_AD"
      }
    },
    {
      "cell_type": "code",
      "source": [],
      "metadata": {
        "id": "YInzptDPWSDu"
      },
      "execution_count": null,
      "outputs": []
    }
  ]
}